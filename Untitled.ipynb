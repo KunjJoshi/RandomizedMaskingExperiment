{
 "cells": [
  {
   "cell_type": "code",
   "execution_count": 2,
   "id": "90b67d27-4300-4725-8b74-1ecb8498b8c5",
   "metadata": {},
   "outputs": [],
   "source": [
    "import os\n",
    "files = os.listdir('data')"
   ]
  },
  {
   "cell_type": "code",
   "execution_count": 28,
   "id": "5bd335d0-19bc-4f30-af32-11f960076b17",
   "metadata": {},
   "outputs": [],
   "source": [
    "files = [os.path.join('data', f) for f in files]"
   ]
  },
  {
   "cell_type": "code",
   "execution_count": 21,
   "id": "4c6d7fe5-1d70-44b9-97d3-844473b3d14c",
   "metadata": {},
   "outputs": [],
   "source": [
    "for file in files:\n",
    "    if '-' in file:\n",
    "        new_file_name = file.replace('-','')\n",
    "        os.rename(file, new_file_name)"
   ]
  },
  {
   "cell_type": "code",
   "execution_count": 22,
   "id": "75e1a5a6-b284-42a1-9273-ddeca65e5766",
   "metadata": {},
   "outputs": [],
   "source": [
    "for file in files:\n",
    "    value = file.split('_')[0]\n",
    "    if 'epoch3' in value:\n",
    "        perc = file.split('_')[-1]\n",
    "        perc = perc.replace('%.txt', '')\n",
    "        perc = int(perc)\n",
    "        perc = (perc - 100) + 10\n",
    "        new_file_name = f\"{value}_{perc}%.txt\"\n",
    "        os.rename(file, new_file_name)"
   ]
  },
  {
   "cell_type": "code",
   "execution_count": 27,
   "id": "fb21fedf-206b-4324-8ce6-03a5ba3ac85e",
   "metadata": {},
   "outputs": [
    {
     "data": {
      "text/plain": [
       "['.ipynb_checkpoints',\n",
       " 'epoch3_-10%.txt',\n",
       " 'epoch3_-20%.txt',\n",
       " 'epoch3_-30%.txt',\n",
       " 'epoch3_-40%.txt',\n",
       " 'epoch3_-50%.txt',\n",
       " 'epoch3_-60%.txt',\n",
       " 'epoch3_-70%.txt',\n",
       " 'epoch3_-80%.txt',\n",
       " 'epoch3_0%.txt']"
      ]
     },
     "execution_count": 27,
     "metadata": {},
     "output_type": "execute_result"
    }
   ],
   "source": [
    "files"
   ]
  },
  {
   "cell_type": "code",
   "execution_count": 29,
   "id": "4cc5e7e7-165e-420e-8eb7-b6d08aa6d36c",
   "metadata": {},
   "outputs": [],
   "source": [
    "for file in files:\n",
    "    if \".ipynb\" in file:\n",
    "        continue\n",
    "    os.remove(file)"
   ]
  },
  {
   "cell_type": "code",
   "execution_count": 1,
   "id": "22f94921-b467-4506-b929-28dae3faed01",
   "metadata": {},
   "outputs": [
    {
     "name": "stdout",
     "output_type": "stream",
     "text": [
      "Available CPU cores: 64\n"
     ]
    }
   ],
   "source": [
    "# Check your available CPU cores\n",
    "import multiprocessing\n",
    "print(f\"Available CPU cores: {multiprocessing.cpu_count()}\")"
   ]
  },
  {
   "cell_type": "code",
   "execution_count": 5,
   "id": "ac538680-67a1-4842-8379-2a46c3a05a54",
   "metadata": {},
   "outputs": [
    {
     "name": "stdout",
     "output_type": "stream",
     "text": [
      "['100e1', '100e2', '100e3', '10e1', '10e2', '10e3', '110e3', '20e1', '20e2', '20e3', '30e1', '30e2', '30e3', '40e1', '40e2', '40e3', '50e1', '50e2', '50e3', '60e1', '60e2', '60e3', '70e1', '70e2', '70e3', '80e1', '80e2', '80e3', '90e1', '90e2', '90e3', 'checkpoint-10208', 'checkpoint-10672', 'checkpoint-11136', 'checkpoint-11600', 'checkpoint-12064', 'checkpoint-12528', 'checkpoint-12992', 'checkpoint-13456', 'checkpoint-1392', 'checkpoint-13920', 'checkpoint-13929', 'checkpoint-14848', 'checkpoint-15776', 'checkpoint-16704', 'checkpoint-17632', 'checkpoint-1856', 'checkpoint-18560', 'checkpoint-19488', 'checkpoint-20416', 'checkpoint-21344', 'checkpoint-22272', 'checkpoint-2320', 'checkpoint-23200', 'checkpoint-24128', 'checkpoint-25056', 'checkpoint-25984', 'checkpoint-26912', 'checkpoint-2784', 'checkpoint-27840', 'checkpoint-27858', 'checkpoint-3248', 'checkpoint-3712', 'checkpoint-4176', 'checkpoint-464', 'checkpoint-4640', 'checkpoint-5104', 'checkpoint-5568', 'checkpoint-6032', 'checkpoint-6496', 'checkpoint-6960', 'checkpoint-7424', 'checkpoint-7888', 'checkpoint-8352', 'checkpoint-8816', 'checkpoint-928', 'checkpoint-9280', 'checkpoint-939', 'checkpoint-9744']\n"
     ]
    }
   ],
   "source": [
    "models = os.listdir('models')\n",
    "print(models)"
   ]
  },
  {
   "cell_type": "code",
   "execution_count": 6,
   "id": "51c84aac-094d-42a0-b8ce-6af5b1f51a79",
   "metadata": {},
   "outputs": [],
   "source": [
    "import shutil\n",
    "models = [os.path.join('models', mde) for mde in models]\n",
    "for mde in models:\n",
    "    shutil.rmtree(mde)"
   ]
  },
  {
   "cell_type": "code",
   "execution_count": null,
   "id": "cd8576f7-c329-4a6a-b57e-47f9e9c009cc",
   "metadata": {},
   "outputs": [],
   "source": []
  }
 ],
 "metadata": {
  "kernelspec": {
   "display_name": "Python 3",
   "language": "python",
   "name": "python3"
  },
  "language_info": {
   "codemirror_mode": {
    "name": "ipython",
    "version": 3
   },
   "file_extension": ".py",
   "mimetype": "text/x-python",
   "name": "python",
   "nbconvert_exporter": "python",
   "pygments_lexer": "ipython3",
   "version": "3.8.8"
  }
 },
 "nbformat": 4,
 "nbformat_minor": 5
}
