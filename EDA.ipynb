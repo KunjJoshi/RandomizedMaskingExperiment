{
 "cells": [
  {
   "cell_type": "code",
   "execution_count": 1,
   "id": "16e782b2-82c4-45c5-8589-04760b81081e",
   "metadata": {},
   "outputs": [],
   "source": [
    "import pandas as pd\n",
    "import matplotlib.pyplot as plt\n",
    "import re\n",
    "import numpy as np\n",
    "import seaborn as sns\n",
    "import time\n",
    "from matplotlib.colors import Normalize\n",
    "import time\n",
    "import matplotlib.cm as cm\n",
    "import time\n",
    "from matplotlib.collections import CircleCollection\n",
    "import math"
   ]
  },
  {
   "cell_type": "code",
   "execution_count": 2,
   "id": "cc26fed3-f395-4880-ac44-258b96e94077",
   "metadata": {},
   "outputs": [],
   "source": [
    "def extract_email_data(filename):\n",
    "    with open(filename, 'r') as file:\n",
    "        data = file.read()\n",
    "    all_emails = re.findall(r'\\b[A-Za-z0-9._%+-]+@[A-Za-z0-9.-]+\\.[A-Z|a-z]{2,}\\b', data)\n",
    "    num_email_apps = {}\n",
    "    for email in all_emails:\n",
    "        if email in num_email_apps.keys():\n",
    "            num_email_apps[email] += 1\n",
    "        else:\n",
    "            num_email_apps[email] = 1\n",
    "    return num_email_apps\n",
    "    "
   ]
  },
  {
   "cell_type": "code",
   "execution_count": 3,
   "id": "8c1f2f2a-02ca-4fd5-9bec-cc9808aa42f1",
   "metadata": {},
   "outputs": [],
   "source": [
    "training_emails = extract_email_data(\"datasets/enron/training.txt\")"
   ]
  },
  {
   "cell_type": "code",
   "execution_count": 4,
   "id": "b1ae4ba3-c1df-4e3d-b38c-c9428bfa9ea4",
   "metadata": {},
   "outputs": [],
   "source": [
    "validation_emails = extract_email_data(\"datasets/enron/validation.txt\")"
   ]
  },
  {
   "cell_type": "code",
   "execution_count": 5,
   "id": "2b3f2de3-1599-4a4b-a595-14b79cd63ec1",
   "metadata": {},
   "outputs": [],
   "source": [
    "def create_top10_frequency_chart(data, output_file=None, figsize=(12, 8), \n",
    "                               chart_type=\"horizontal_bar\", color_map='viridis', \n",
    "                               title=None):\n",
    "    \"\"\"\n",
    "    Creates a chart showing the top 10 most frequent data points.\n",
    "    \n",
    "    Parameters:\n",
    "    -----------\n",
    "    data : dict\n",
    "        Dictionary with keys as data points and values as frequencies\n",
    "    output_file : str, optional\n",
    "        Path to save the output file, if None, the plot is shown\n",
    "    figsize : tuple, optional\n",
    "        Figure size in inches\n",
    "    chart_type : str, optional\n",
    "        Type of chart: \"horizontal_bar\", \"bubble\", or \"pie\"\n",
    "    color_map : str, optional\n",
    "        Matplotlib colormap name to use\n",
    "    title : str, optional\n",
    "        Title for the plot\n",
    "    \n",
    "    Returns:\n",
    "    --------\n",
    "    float\n",
    "        Execution time in seconds\n",
    "    \"\"\"\n",
    "    start_time = time.time()\n",
    "    \n",
    "    # Get the top 10 frequencies\n",
    "    sorted_data = dict(sorted(data.items(), key=lambda item: item[1], reverse=True)[:10])\n",
    "    \n",
    "    # Extract keys and values\n",
    "    keys = list(sorted_data.keys())\n",
    "    values = list(sorted_data.values())\n",
    "    \n",
    "    # Create figure and axis\n",
    "    fig, ax = plt.subplots(figsize=figsize)\n",
    "    \n",
    "    # Create color mapping\n",
    "    norm = Normalize(vmin=min(values), vmax=max(values))\n",
    "    colors = [cm.get_cmap(color_map)(norm(value)) for value in values]\n",
    "    \n",
    "    # Create chart based on selected type\n",
    "    if chart_type == \"horizontal_bar\":\n",
    "        # Create horizontal bar chart (best for frequency visualization)\n",
    "        bars = ax.barh(range(len(keys)), values, color=colors)\n",
    "        \n",
    "        # Add data labels\n",
    "        for i, bar in enumerate(bars):\n",
    "            width = bar.get_width()\n",
    "            label_x_pos = width + max(values) * 0.01\n",
    "            ax.text(label_x_pos, bar.get_y() + bar.get_height()/2, f\"{values[i]:,}\",\n",
    "                  va='center', fontsize=10, fontweight='bold')\n",
    "        \n",
    "        # Set y-ticks with data point labels\n",
    "        ax.set_yticks(range(len(keys)))\n",
    "        ax.set_yticklabels(keys)\n",
    "        \n",
    "        # Set x-axis label\n",
    "        ax.set_xlabel('Frequency', fontsize=12)\n",
    "        \n",
    "        # Add grid lines for readability\n",
    "        ax.grid(axis='x', linestyle='--', alpha=0.7)\n",
    "        \n",
    "        # Remove top and right spines\n",
    "        ax.spines['top'].set_visible(False)\n",
    "        ax.spines['right'].set_visible(False)\n",
    "        \n",
    "    elif chart_type == \"bubble\":\n",
    "        # Position bubbles in a horizontal line\n",
    "        x = np.arange(len(keys))\n",
    "        y = np.zeros(len(keys))\n",
    "        \n",
    "        # Calculate bubble sizes\n",
    "        max_value = max(values)\n",
    "        sizes = [v / max_value * 3000 for v in values]\n",
    "        \n",
    "        # Plot bubbles\n",
    "        scatter = ax.scatter(x, y, s=sizes, c=colors, alpha=0.8, \n",
    "                           edgecolor='white', linewidth=1.5)\n",
    "        \n",
    "        # Add data labels inside bubbles\n",
    "        for i in range(len(keys)):\n",
    "            # Add key label\n",
    "            ax.text(x[i], y[i], keys[i], ha='center', va='center',\n",
    "                  fontsize=11, fontweight='bold', color='black')\n",
    "            \n",
    "            # Add frequency below the bubble\n",
    "            ax.text(x[i], y[i] - 0.3, f\"{values[i]:,}\", ha='center', va='top',\n",
    "                  fontsize=10, fontweight='bold', color='black',\n",
    "                  bbox=dict(facecolor='white', alpha=0.7, edgecolor='none', \n",
    "                          boxstyle='round,pad=0.2'))\n",
    "        \n",
    "        # Set axis limits\n",
    "        ax.set_xlim(-0.5, len(keys) - 0.5)\n",
    "        ax.set_ylim(-1, 1)\n",
    "        \n",
    "        # Remove ticks\n",
    "        ax.set_xticks([])\n",
    "        ax.set_yticks([])\n",
    "        \n",
    "        # Remove spines\n",
    "        for spine in ax.spines.values():\n",
    "            spine.set_visible(False)\n",
    "            \n",
    "    elif chart_type == \"pie\":\n",
    "        # Create pie chart\n",
    "        wedges, texts, autotexts = ax.pie(\n",
    "            values, \n",
    "            labels=None,\n",
    "            autopct='%1.1f%%',\n",
    "            startangle=90,\n",
    "            wedgeprops=dict(width=0.5, edgecolor='w'),\n",
    "            colors=colors\n",
    "        )\n",
    "        \n",
    "        # Modify text properties\n",
    "        for autotext in autotexts:\n",
    "            autotext.set_fontsize(9)\n",
    "            autotext.set_fontweight('bold')\n",
    "        \n",
    "        # Add a legend with custom labels showing both key and value\n",
    "        legend_labels = [f\"{k} ({v:,})\" for k, v in sorted_data.items()]\n",
    "        ax.legend(wedges, legend_labels, loc=\"center left\", bbox_to_anchor=(1, 0.5))\n",
    "        \n",
    "        # Equal aspect ratio ensures the pie chart is circular\n",
    "        ax.set_aspect('equal')\n",
    "        \n",
    "    # Add title\n",
    "    if title:\n",
    "        ax.set_title(title, fontsize=16, pad=20)\n",
    "    else:\n",
    "        ax.set_title(f'Top 10 Most Frequent Data Points', fontsize=16, pad=20)\n",
    "    \n",
    "    # Add generation time note\n",
    "    end_time = time.time()\n",
    "    execution_time = end_time - start_time\n",
    "    fig.text(0.02, 0.02, f'Generated in {execution_time:.2f} seconds', \n",
    "            fontsize=8, alpha=0.7)\n",
    "    \n",
    "    # Add a note showing total entries vs. displayed entries\n",
    "    total_entries = sum(data.values())\n",
    "    displayed_entries = sum(values)\n",
    "    percentage = (displayed_entries / total_entries) * 100 if total_entries > 0 else 0\n",
    "    \n",
    "    fig.text(0.5, 0.02, \n",
    "            f'Showing top 10 entries ({displayed_entries:,} out of {total_entries:,} total, {percentage:.1f}%)',\n",
    "            fontsize=10, ha='center', style='italic')\n",
    "    \n",
    "    # Tight layout\n",
    "    plt.tight_layout()\n",
    "    \n",
    "    # Save or show\n",
    "    if output_file:\n",
    "        plt.savefig(output_file, dpi=150, bbox_inches='tight')\n",
    "        print(f\"Saved to {output_file}\")\n",
    "    else:\n",
    "        plt.show()\n",
    "    \n",
    "    plt.close()\n",
    "    \n",
    "    return execution_time"
   ]
  },
  {
   "cell_type": "code",
   "execution_count": 6,
   "id": "b5023e8e-7496-4309-8b06-1772e86fe72c",
   "metadata": {},
   "outputs": [
    {
     "name": "stdout",
     "output_type": "stream",
     "text": [
      "Saved to top10_frequency_bar_train.png\n"
     ]
    },
    {
     "data": {
      "text/plain": [
       "0.040287017822265625"
      ]
     },
     "execution_count": 6,
     "metadata": {},
     "output_type": "execute_result"
    }
   ],
   "source": [
    "execution_time = create_top10_frequency_chart(\n",
    "        training_emails,\n",
    "        output_file=\"top10_frequency_bar_train.png\",\n",
    "        figsize=(12, 8),\n",
    "        chart_type=\"horizontal_bar\",  # Options: \"horizontal_bar\", \"bubble\", \"pie\"\n",
    "        color_map='viridis',\n",
    "        title=\"Top 10 Most Frequent Items\")\n",
    "execution_time"
   ]
  },
  {
   "cell_type": "code",
   "execution_count": 7,
   "id": "7c461084-5ea0-4d4e-a635-4ce4fb7a5858",
   "metadata": {},
   "outputs": [
    {
     "name": "stdout",
     "output_type": "stream",
     "text": [
      "Saved to top10_frequency_bar_val.png\n"
     ]
    },
    {
     "data": {
      "text/plain": [
       "0.02391815185546875"
      ]
     },
     "execution_count": 7,
     "metadata": {},
     "output_type": "execute_result"
    }
   ],
   "source": [
    "execution_time = create_top10_frequency_chart(\n",
    "        validation_emails,\n",
    "        output_file=\"top10_frequency_bar_val.png\",\n",
    "        figsize=(12, 8),\n",
    "        chart_type=\"horizontal_bar\",  # Options: \"horizontal_bar\", \"bubble\", \"pie\"\n",
    "        color_map='viridis',\n",
    "        title=\"Top 10 Most Frequent Items\")\n",
    "execution_time"
   ]
  }
 ],
 "metadata": {
  "kernelspec": {
   "display_name": "Python 3",
   "language": "python",
   "name": "python3"
  },
  "language_info": {
   "codemirror_mode": {
    "name": "ipython",
    "version": 3
   },
   "file_extension": ".py",
   "mimetype": "text/x-python",
   "name": "python",
   "nbconvert_exporter": "python",
   "pygments_lexer": "ipython3",
   "version": "3.8.8"
  }
 },
 "nbformat": 4,
 "nbformat_minor": 5
}
