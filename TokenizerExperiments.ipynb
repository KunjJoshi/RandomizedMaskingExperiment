{
 "cells": [
  {
   "cell_type": "code",
   "execution_count": 6,
   "id": "b5bde750-29b5-469c-951e-a486493b40ae",
   "metadata": {},
   "outputs": [],
   "source": [
    "import os\n",
    "from transformers import AutoModelForCausalLM, AutoTokenizer\n",
    "import pandas as pd\n",
    "import numpy as np\n",
    "from tqdm import tqdm\n",
    "import re\n",
    "import random\n",
    "import torch\n",
    "import matplotlib.pyplot as plt\n",
    "import random"
   ]
  },
  {
   "cell_type": "code",
   "execution_count": 7,
   "id": "3959c1fa-04c2-417f-8b8f-a6011c1d727a",
   "metadata": {},
   "outputs": [],
   "source": [
    "def extract_emails(text):\n",
    "    emails = re.findall(r'\\b[A-Za-z0-9._%+-]+@[A-Za-z0-9.-]+\\.[A-Z|a-z]{2,}\\b', text)\n",
    "    emails = [email.lower() for email in emails]\n",
    "    return set(emails)"
   ]
  },
  {
   "cell_type": "code",
   "execution_count": 8,
   "id": "6f366d4e-491b-4611-9f52-5c24332a8bac",
   "metadata": {},
   "outputs": [],
   "source": [
    "with open('datasets/enron/training.txt', 'r') as file:\n",
    "    train_data = file.read()\n",
    "ORIGINAL_SET = extract_emails(train_data)"
   ]
  },
  {
   "cell_type": "code",
   "execution_count": 21,
   "id": "d9a6ebca-f57e-4e60-8f1a-7ade30294c96",
   "metadata": {},
   "outputs": [],
   "source": [
    "tokenizer = AutoTokenizer.from_pretrained(\"gpt2-xl\")\n",
    "email = random.sample(ORIGINAL_SET, 1)[0]"
   ]
  },
  {
   "cell_type": "code",
   "execution_count": 22,
   "id": "33d413b4-231f-4570-babf-84d7251bd571",
   "metadata": {},
   "outputs": [
    {
     "data": {
      "text/plain": [
       "'allan.weatherford@enron.com'"
      ]
     },
     "execution_count": 22,
     "metadata": {},
     "output_type": "execute_result"
    }
   ],
   "source": [
    "email"
   ]
  },
  {
   "cell_type": "code",
   "execution_count": 23,
   "id": "74de44c5-59cd-4d70-ac01-b3c51d12c40a",
   "metadata": {},
   "outputs": [
    {
     "data": {
      "text/plain": [
       "{'input_ids': tensor([[  439,   272,    13, 23563,  3841,    31,   268,  1313,    13,   785]]), 'attention_mask': tensor([[1, 1, 1, 1, 1, 1, 1, 1, 1, 1]])}"
      ]
     },
     "execution_count": 23,
     "metadata": {},
     "output_type": "execute_result"
    }
   ],
   "source": [
    "tokens = tokenizer(email, return_tensors='pt')\n",
    "tokens"
   ]
  },
  {
   "cell_type": "code",
   "execution_count": 24,
   "id": "61c8c15f-c7e8-44a4-8aff-276658558e8f",
   "metadata": {},
   "outputs": [
    {
     "data": {
      "text/plain": [
       "1"
      ]
     },
     "execution_count": 24,
     "metadata": {},
     "output_type": "execute_result"
    }
   ],
   "source": [
    "len(tokens['input_ids'])"
   ]
  },
  {
   "cell_type": "code",
   "execution_count": 25,
   "id": "e9eaf47c-a4f7-468d-8c44-97d164ae6a30",
   "metadata": {},
   "outputs": [
    {
     "name": "stdout",
     "output_type": "stream",
     "text": [
      "all\n",
      "an\n",
      ".\n",
      "weather\n",
      "ford\n",
      "@\n",
      "en\n",
      "ron\n",
      ".\n",
      "com\n"
     ]
    }
   ],
   "source": [
    "embed_tokens = tokens['input_ids'][0]\n",
    "\n",
    "for token in embed_tokens:\n",
    "    print(tokenizer.decode(token, skip_special_tokens=True))"
   ]
  },
  {
   "cell_type": "code",
   "execution_count": 14,
   "id": "c923743a-c736-4741-9a10-3eb24e7389d5",
   "metadata": {},
   "outputs": [
    {
     "name": "stderr",
     "output_type": "stream",
     "text": [
      "Tokenizing Emails: 100%|██████████| 23394/23394 [00:04<00:00, 5310.08it/s]\n"
     ]
    }
   ],
   "source": [
    "num_tokens = []\n",
    "for email in tqdm(ORIGINAL_SET, desc = 'Tokenizing Emails'):\n",
    "    tokens = tokenizer(email, return_tensors='pt')\n",
    "    num_tokens.append(len(tokens['input_ids'][0]))"
   ]
  },
  {
   "cell_type": "code",
   "execution_count": 15,
   "id": "05b45e3f-fa92-4e6f-b023-6f8daa73e387",
   "metadata": {},
   "outputs": [
    {
     "data": {
      "text/plain": [
       "10.046806873557323"
      ]
     },
     "execution_count": 15,
     "metadata": {},
     "output_type": "execute_result"
    }
   ],
   "source": [
    "sum(num_tokens)/len(num_tokens)"
   ]
  },
  {
   "cell_type": "code",
   "execution_count": null,
   "id": "493ac8f3-1198-4b99-b63f-c244f8a0618e",
   "metadata": {},
   "outputs": [],
   "source": []
  }
 ],
 "metadata": {
  "kernelspec": {
   "display_name": "Python 3 (ipykernel)",
   "language": "python",
   "name": "python3"
  },
  "language_info": {
   "codemirror_mode": {
    "name": "ipython",
    "version": 3
   },
   "file_extension": ".py",
   "mimetype": "text/x-python",
   "name": "python",
   "nbconvert_exporter": "python",
   "pygments_lexer": "ipython3",
   "version": "3.12.4"
  }
 },
 "nbformat": 4,
 "nbformat_minor": 5
}
