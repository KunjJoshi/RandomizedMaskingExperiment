{
 "cells": [
  {
   "cell_type": "code",
   "execution_count": 21,
   "id": "8cf8f910-f856-4f8b-81cf-173c6927f7d7",
   "metadata": {},
   "outputs": [],
   "source": [
    "import os\n",
    "from transformers import AutoModelForCausalLM, AutoTokenizer\n",
    "import pandas as pd\n",
    "import torch\n",
    "import re\n",
    "from tqdm import tqdm\n",
    "import matplotlib.pyplot as plt\n",
    "import random"
   ]
  },
  {
   "cell_type": "code",
   "execution_count": 4,
   "id": "f61759f4-052b-4d78-94fb-115fdf6470a7",
   "metadata": {},
   "outputs": [],
   "source": [
    "MODELS='models'\n",
    "CSVS='email_collection'\n",
    "FRESH = 'fresh_email_collection'\n",
    "\n",
    "models = [os.path.join(MODELS, model) for model in os.listdir(MODELS)]\n",
    "csvs = [os.path.join(CSVS, csv) for csv in os.listdir(CSVS)]\n",
    "os.makedirs(FRESH, exist_ok=True)"
   ]
  },
  {
   "cell_type": "code",
   "execution_count": 5,
   "id": "30948f1d-f453-4abd-bddc-a37230370abb",
   "metadata": {},
   "outputs": [],
   "source": [
    "tokenizer = AutoTokenizer.from_pretrained(\"gpt2-xl\")\n",
    "tokenizer.pad_token = tokenizer.eos_token"
   ]
  },
  {
   "cell_type": "code",
   "execution_count": 6,
   "id": "5d1b7f14-6940-4d3c-ac7e-2e4caee5968b",
   "metadata": {},
   "outputs": [],
   "source": [
    "def extract_emails(text):\n",
    "    emails = re.findall(r'\\b[A-Za-z0-9._%+-]+@[A-Za-z0-9.-]+\\.[A-Z|a-z]{2,}\\b', text)\n",
    "    emails = [email.lower() for email in emails]\n",
    "    return set(emails)"
   ]
  },
  {
   "cell_type": "code",
   "execution_count": 7,
   "id": "c107af4e-5146-4ed2-91b4-91dddbd597a2",
   "metadata": {},
   "outputs": [],
   "source": [
    "def parse_wet_file(file_path):\n",
    "    with open(file_path, 'r', encoding='utf-8') as file:\n",
    "        content = file.read()\n",
    "        \n",
    "    documents = re.split(r'WARC/1.0', content)\n",
    "    texts = []\n",
    "    \n",
    "    for doc in documents:\n",
    "        if \"WARC-Identified-Content-Language: eng\" in doc:\n",
    "            match = re.search(r'Content-Length: \\d+\\n\\n(.*)', doc, re.DOTALL)\n",
    "            if match:\n",
    "                text = match.group(1)\n",
    "                texts.append(text)\n",
    "    \n",
    "    return texts"
   ]
  },
  {
   "cell_type": "code",
   "execution_count": 16,
   "id": "83921da2-bffd-4d67-8932-282af2c4194a",
   "metadata": {},
   "outputs": [],
   "source": [
    "def sample_random_prompts(texts, num_samples=25000, prompt_length=10):\n",
    "    prompts = []\n",
    "    for text in texts:\n",
    "        tokens = text.split()\n",
    "        \n",
    "        if len(tokens) >= prompt_length:\n",
    "            start_index = random.randint(0, len(tokens) - prompt_length)\n",
    "            prompt = tokens[start_index:start_index + prompt_length]\n",
    "            prompts.append(' '.join(prompt))\n",
    "        \n",
    "        if len(prompts) >= num_samples:\n",
    "            break\n",
    "    \n",
    "    return prompts"
   ]
  },
  {
   "cell_type": "code",
   "execution_count": 8,
   "id": "a5ff58f8-88bb-4e5c-8f69-584e64ded319",
   "metadata": {},
   "outputs": [],
   "source": [
    "with open('datasets/enron/training.txt', 'r') as file:\n",
    "    train_data = file.read()\n",
    "ORIGINAL_SET = extract_emails(train_data)"
   ]
  },
  {
   "cell_type": "code",
   "execution_count": 9,
   "id": "bab54be8-0ba7-4471-a9ef-f067f9492db2",
   "metadata": {},
   "outputs": [],
   "source": [
    "def num_times_email_leaked(emails, email):\n",
    "    num_times = 0\n",
    "    for mail in emails:\n",
    "        if mail == email:\n",
    "            num_times += 1\n",
    "    return num_times"
   ]
  },
  {
   "cell_type": "code",
   "execution_count": 10,
   "id": "f2c945ab-c0d0-4515-a058-e1878bfbd0e2",
   "metadata": {},
   "outputs": [],
   "source": [
    "def calculate_batch_perplexity(model, texts, batch_size=50):\n",
    "    generations = {}\n",
    "    generations['input'] = []\n",
    "    generations['output'] = []\n",
    "    perplexities = []\n",
    "\n",
    "    for i in tqdm(range(0, len(texts), batch_size), desc=\"Generating Samples\"):\n",
    "        input_texts = texts[i : i + batch_size]\n",
    "        generations['input'].extend(input_texts)\n",
    "        inputs = tokenizer(input_texts, return_tensors=\"pt\", padding=True, max_length=512, truncation=True)\n",
    "        input_ids = inputs['input_ids'].to(model.device)\n",
    "        attention_mask = inputs['attention_mask'].to(model.device)\n",
    "        \n",
    "        with torch.no_grad():\n",
    "            outputs = model(input_ids, attention_mask=attention_mask)\n",
    "            logits = outputs.logits\n",
    "            \n",
    "        shift_logits = logits[:, :-1, :].contiguous()\n",
    "        shift_labels = input_ids[:, 1:].contiguous()\n",
    "        shift_attention_mask = attention_mask[:, 1:].contiguous()\n",
    "\n",
    "        log_probs = torch.nn.functional.log_softmax(shift_logits, dim=-1)\n",
    "        target_log_probs = log_probs.gather(dim=-1, index=shift_labels.unsqueeze(-1)).squeeze(-1)\n",
    "        target_log_probs = target_log_probs * shift_attention_mask\n",
    "        \n",
    "        for j in range(len(input_texts)):\n",
    "            seq_len = shift_attention_mask[j].sum().item()\n",
    "            if seq_len > 0:\n",
    "                neg_log_likl = -target_log_probs[j].sum().item()\n",
    "                avg_neg_log_likl = neg_log_likl / seq_len\n",
    "                perplexity = torch.exp(torch.tensor(avg_neg_log_likl)).item()\n",
    "                if torch.isnan(torch.tensor(perplexity)) or torch.isinf(torch.tensor(perplexity)):\n",
    "                    print(f\"Warning: Invalid perplexity {perplexity} for sequence {j}\")\n",
    "                    perplexity = float('inf')\n",
    "                    \n",
    "                perplexities.append(perplexity)\n",
    "            else:\n",
    "                # Skip sequences with no valid tokens\n",
    "                perplexities.append(float('inf'))\n",
    "        \n",
    "        output_texts = tokenizer.batch_decode(input_ids, skip_special_tokens=True)\n",
    "        generations['output'].extend(output_texts)\n",
    "    \n",
    "    valid_perplexities = [p for p in perplexities if p != float('inf')]\n",
    "    if valid_perplexities:\n",
    "        mean_perplexity = sum(valid_perplexities) / len(valid_perplexities)\n",
    "    else:\n",
    "        mean_perplexity = float('inf')   \n",
    "    return mean_perplexity, generations"
   ]
  },
  {
   "cell_type": "code",
   "execution_count": 11,
   "id": "ea8e2179-ffd4-4237-bc8d-99bc177012c1",
   "metadata": {},
   "outputs": [],
   "source": [
    "def re_evaluate_perp(model_coll, batch_size = 50, max_length = 256):\n",
    "    results = {}\n",
    "    results['checkpoint'] = []\n",
    "    results['mean_perplexity'] = []\n",
    "    for model in models:\n",
    "        modelname = model.split('/')[-1]\n",
    "        csvfile = f\"{CSVS}/{modelname}.csv\"\n",
    "        fresh_file = f\"{FRESH}/{modelname}.csv\"\n",
    "        df = pd.read_csv(csvfile)\n",
    "        print(f\"Processing model: {modelname}\")\n",
    "        device = torch.device(\"cuda\" if torch.cuda.is_available() else \"cpu\")\n",
    "        llm = AutoModelForCausalLM.from_pretrained(model, return_dict = True, device_map = \"auto\", low_cpu_mem_usage = True, torch_dtype = torch.float16)\n",
    "        llm.eval()\n",
    "        \n",
    "        prompts = df['input'].to_list()\n",
    "\n",
    "        mean_perplexity, outputs = calculate_batch_perplexity(llm, prompts)\n",
    "        iter_no, epoch_no = modelname.split('e')\n",
    "        iter_no = int(iter_no)\n",
    "        epoch_no = int(epoch_no)\n",
    "\n",
    "        ckpt = (epoch_no - 1) * 100 + iter_no\n",
    "        results['checkpoint'].append(ckpt)\n",
    "        results['mean_perplexity'].append(mean_perplexity)\n",
    "\n",
    "        outputs = pd.DataFrame(outputs)\n",
    "        outputs.to_csv(f\"{CSVS}/{modelname}_masked.csv\", index = False)\n",
    "    results = pd.DataFrame(results)\n",
    "    results.to_csv(f\"results/perp_calc_masked.csv\", index = False)\n",
    "    \n",
    "                    "
   ]
  },
  {
   "cell_type": "code",
   "execution_count": 17,
   "id": "ab5935c4-031b-4d76-871a-3c400ba202a2",
   "metadata": {},
   "outputs": [],
   "source": [
    "def re_evaluate(model_coll, batch_size = 50, max_length = 256):\n",
    "    tokenizer = AutoTokenizer.from_pretrained(\"gpt2-xl\")\n",
    "    for model in models:\n",
    "        modelname = model.split('/')[-1]\n",
    "        csvfile = f\"{CSVS}/{modelname}.csv\"\n",
    "        fresh_file = f\"{FRESH}/{modelname}.csv\"\n",
    "        df = pd.read_csv(csvfile)\n",
    "        re_evaluation = []\n",
    "        re_nums = []\n",
    "        fresh_exposed = []\n",
    "        fresh_exposed_num = []\n",
    "        prompt_mult = []\n",
    "        print(f\"Processing model: {modelname}\")\n",
    "        \n",
    "        device = torch.device(\"cuda\" if torch.cuda.is_available() else \"cpu\")\n",
    "        llm = AutoModelForCausalLM.from_pretrained(model, return_dict = True, device_map = \"auto\", low_cpu_mem_usage = True, torch_dtype = torch.float16)\n",
    "        llm.eval()\n",
    "        \n",
    "        prompts = df['prompt'].to_list()\n",
    "        preleaked_emails = df['email'].to_list()\n",
    "        \n",
    "        for i in tqdm(range(0, len(prompts), batch_size), desc = \"Checking out Prompts\"):\n",
    "            batched_prompts = prompts[i: i + batch_size]\n",
    "            email_batches = preleaked_emails[i: i+batch_size]\n",
    "            inputs = tokenizer(batched_prompts, return_tensors = 'pt', truncation = True, max_length = 10).to(device)\n",
    "            with torch.no_grad():\n",
    "                outputs = llm.generate(**inputs, max_length = max_length, do_sample = False)\n",
    "            generations = tokenizer.batch_decode(outputs, skip_special_tokens = True)\n",
    "            for _ in range(len(generations)):\n",
    "                generation = generations[_]\n",
    "                email_to_trace = email_batches[_]\n",
    "                prompt = batched_prompts[_]\n",
    "                emails_leaked = extract_emails(generation)\n",
    "                if email_to_trace in emails_leaked:\n",
    "                    re_evaluation.append(email_to_trace)\n",
    "                    num_times = num_times_email_leaked(emails_leaked, email_to_trace)\n",
    "                    re_nums.append(num_times)\n",
    "                else:\n",
    "                    re_evaluation.append('')\n",
    "                    re_nums.append(0)\n",
    "                for email in emails_leaked:\n",
    "                    if email in ORIGINAL_SET:\n",
    "                        prompt_mult.append(prompt)\n",
    "                        fresh_exposed.append(email)\n",
    "                        num_times = num_times_email_leaked(emails_leaked, email)\n",
    "                        fresh_exposed_num.append(num_times)\n",
    "        df['re_evaluation_leak'] = re_evaluation\n",
    "        df['re_evaluation_num_times'] = re_nums\n",
    "        df.to_csv(csvfile, index = False)\n",
    "        new_df = pd.DataFrame()\n",
    "        new_df['prompt'] = prompt_mult\n",
    "        new_df['email_leaked'] = fresh_exposed_num\n",
    "        new_df['email'] = fresh_exposed\n",
    "        new_df.to_csv(fresh_file, index=False)\n",
    "                    "
   ]
  },
  {
   "cell_type": "code",
   "execution_count": 18,
   "id": "d91e8465-60e7-4507-b040-8d95a242b84e",
   "metadata": {
    "scrolled": true,
    "tags": []
   },
   "outputs": [
    {
     "name": "stdout",
     "output_type": "stream",
     "text": [
      "Processing model: 100e1\n"
     ]
    },
    {
     "name": "stderr",
     "output_type": "stream",
     "text": [
      "Generating Samples:  27%|██▋       | 86/313 [00:03<00:08, 28.31it/s]\n"
     ]
    },
    {
     "ename": "KeyboardInterrupt",
     "evalue": "",
     "output_type": "error",
     "traceback": [
      "\u001b[0;31m---------------------------------------------------------------------------\u001b[0m",
      "\u001b[0;31mKeyboardInterrupt\u001b[0m                         Traceback (most recent call last)",
      "Cell \u001b[0;32mIn[18], line 1\u001b[0m\n\u001b[0;32m----> 1\u001b[0m re_evaluate_perp(models)\n",
      "Cell \u001b[0;32mIn[11], line 17\u001b[0m, in \u001b[0;36mre_evaluate_perp\u001b[0;34m(model_coll, batch_size, max_length)\u001b[0m\n\u001b[1;32m     13\u001b[0m llm\u001b[38;5;241m.\u001b[39meval()\n\u001b[1;32m     15\u001b[0m prompts \u001b[38;5;241m=\u001b[39m df[\u001b[38;5;124m'\u001b[39m\u001b[38;5;124minput\u001b[39m\u001b[38;5;124m'\u001b[39m]\u001b[38;5;241m.\u001b[39mto_list()\n\u001b[0;32m---> 17\u001b[0m mean_perplexity, outputs \u001b[38;5;241m=\u001b[39m calculate_batch_perplexity(llm, prompts)\n\u001b[1;32m     18\u001b[0m iter_no, epoch_no \u001b[38;5;241m=\u001b[39m modelname\u001b[38;5;241m.\u001b[39msplit(\u001b[38;5;124m'\u001b[39m\u001b[38;5;124me\u001b[39m\u001b[38;5;124m'\u001b[39m)\n\u001b[1;32m     19\u001b[0m iter_no \u001b[38;5;241m=\u001b[39m \u001b[38;5;28mint\u001b[39m(iter_no)\n",
      "Cell \u001b[0;32mIn[10], line 27\u001b[0m, in \u001b[0;36mcalculate_batch_perplexity\u001b[0;34m(model, texts, batch_size)\u001b[0m\n\u001b[1;32m     24\u001b[0m target_log_probs \u001b[38;5;241m=\u001b[39m target_log_probs \u001b[38;5;241m*\u001b[39m shift_attention_mask\n\u001b[1;32m     26\u001b[0m \u001b[38;5;28;01mfor\u001b[39;00m j \u001b[38;5;129;01min\u001b[39;00m \u001b[38;5;28mrange\u001b[39m(\u001b[38;5;28mlen\u001b[39m(input_texts)):\n\u001b[0;32m---> 27\u001b[0m     seq_len \u001b[38;5;241m=\u001b[39m shift_attention_mask[j]\u001b[38;5;241m.\u001b[39msum()\u001b[38;5;241m.\u001b[39mitem()\n\u001b[1;32m     28\u001b[0m     \u001b[38;5;28;01mif\u001b[39;00m seq_len \u001b[38;5;241m>\u001b[39m \u001b[38;5;241m0\u001b[39m:\n\u001b[1;32m     29\u001b[0m         neg_log_likl \u001b[38;5;241m=\u001b[39m \u001b[38;5;241m-\u001b[39mtarget_log_probs[j]\u001b[38;5;241m.\u001b[39msum()\u001b[38;5;241m.\u001b[39mitem()\n",
      "\u001b[0;31mKeyboardInterrupt\u001b[0m: "
     ]
    }
   ],
   "source": [
    "re_evaluate_perp(models)"
   ]
  },
  {
   "cell_type": "code",
   "execution_count": 19,
   "id": "41af71cb-fb6b-449a-be8d-4c180cf9f65b",
   "metadata": {},
   "outputs": [],
   "source": [
    "def generate_perplexities(wet_file_path, batch_size = 50, num_samples = 25000, max_length = 256):\n",
    "    results = {}\n",
    "    results['checkpoint'] = []\n",
    "    results['mean_perplexity'] = []\n",
    "    texts = parse_wet_file(wet_file_path)\n",
    "    prompts = sample_random_prompts(texts, num_samples)\n",
    "    tokenizer = AutoTokenizer.from_pretrained(\"gpt2-xl\")\n",
    "    folder_path = \"models\"\n",
    "    checkpoints = [os.path.join(folder_path, ckpt) for ckpt in os.listdir(folder_path)]\n",
    "    for ckpt in checkpoints:\n",
    "        if ckpt == \"models/120e3\":\n",
    "            continue\n",
    "        print(f'processing : {ckpt}')\n",
    "        model = AutoModelForCausalLM.from_pretrained(ckpt, return_dict=True, device_map=\"auto\", low_cpu_mem_usage=True, torch_dtype=torch.float16)\n",
    "        model.eval()\n",
    "        device = torch.device(\"cuda\" if torch.cuda.is_available() else \"cpu\")\n",
    "        os.makedirs(\"generations\", exist_ok = True)\n",
    "        os.makedirs(\"email_collection\", exist_ok=True)\n",
    "        \n",
    "        checkpoint_name = ckpt.split('/')[-1]\n",
    "        generation_name = f\"generations/{checkpoint_name}.txt\"\n",
    "        df_name = f\"email_collection/{checkpoint_name}.csv\"\n",
    "\n",
    "        iter_no, epoch_no = checkpoint_name.split('e')\n",
    "        iter_no = int(iter_no)\n",
    "        epoch_no = int(epoch_no)\n",
    "        ckpt = (epoch_no - 1) * 100 + iter_no\n",
    "        results['checkpoint'].append(ckpt)\n",
    "        \n",
    "        perplexity, ckpt_summ = calculate_batch_perplexity(model, prompts)\n",
    "        results['mean_perplexity'].append(perplexity)\n",
    "        ckpt_df = pd.DataFrame(ckpt_summ)\n",
    "        ckpt_df.to_csv(df_name, index = False)\n",
    "    res_df = pd.DataFrame(results)\n",
    "    res_df.to_csv('results/perp_calc_masked_random.csv', index = False)\n",
    "        \n",
    "                            \n",
    "        \n",
    "        "
   ]
  },
  {
   "cell_type": "code",
   "execution_count": 22,
   "id": "40572023-b9e0-400f-80ae-371e76d734ab",
   "metadata": {
    "scrolled": true
   },
   "outputs": [
    {
     "name": "stdout",
     "output_type": "stream",
     "text": [
      "processing : models/100e1\n"
     ]
    },
    {
     "name": "stderr",
     "output_type": "stream",
     "text": [
      "Generating Samples: 100%|██████████| 313/313 [00:08<00:00, 37.87it/s]\n"
     ]
    },
    {
     "name": "stdout",
     "output_type": "stream",
     "text": [
      "processing : models/100e2\n"
     ]
    },
    {
     "name": "stderr",
     "output_type": "stream",
     "text": [
      "Generating Samples: 100%|██████████| 313/313 [00:08<00:00, 37.90it/s]\n"
     ]
    },
    {
     "name": "stdout",
     "output_type": "stream",
     "text": [
      "processing : models/100e3\n"
     ]
    },
    {
     "name": "stderr",
     "output_type": "stream",
     "text": [
      "Generating Samples: 100%|██████████| 313/313 [00:08<00:00, 37.94it/s]\n"
     ]
    },
    {
     "name": "stdout",
     "output_type": "stream",
     "text": [
      "processing : models/10e1\n"
     ]
    },
    {
     "name": "stderr",
     "output_type": "stream",
     "text": [
      "Generating Samples: 100%|██████████| 313/313 [00:08<00:00, 37.91it/s]\n"
     ]
    },
    {
     "name": "stdout",
     "output_type": "stream",
     "text": [
      "processing : models/10e2\n"
     ]
    },
    {
     "name": "stderr",
     "output_type": "stream",
     "text": [
      "Generating Samples: 100%|██████████| 313/313 [00:08<00:00, 37.91it/s]\n"
     ]
    },
    {
     "name": "stdout",
     "output_type": "stream",
     "text": [
      "processing : models/10e3\n"
     ]
    },
    {
     "name": "stderr",
     "output_type": "stream",
     "text": [
      "Generating Samples: 100%|██████████| 313/313 [00:08<00:00, 37.94it/s]\n"
     ]
    },
    {
     "name": "stdout",
     "output_type": "stream",
     "text": [
      "processing : models/110e3\n"
     ]
    },
    {
     "name": "stderr",
     "output_type": "stream",
     "text": [
      "Generating Samples: 100%|██████████| 313/313 [00:08<00:00, 37.92it/s]\n"
     ]
    },
    {
     "name": "stdout",
     "output_type": "stream",
     "text": [
      "processing : models/20e1\n"
     ]
    },
    {
     "name": "stderr",
     "output_type": "stream",
     "text": [
      "Generating Samples: 100%|██████████| 313/313 [00:08<00:00, 37.92it/s]\n"
     ]
    },
    {
     "name": "stdout",
     "output_type": "stream",
     "text": [
      "processing : models/20e2\n"
     ]
    },
    {
     "name": "stderr",
     "output_type": "stream",
     "text": [
      "Generating Samples: 100%|██████████| 313/313 [00:08<00:00, 37.89it/s]\n"
     ]
    },
    {
     "name": "stdout",
     "output_type": "stream",
     "text": [
      "processing : models/20e3\n"
     ]
    },
    {
     "name": "stderr",
     "output_type": "stream",
     "text": [
      "Generating Samples: 100%|██████████| 313/313 [00:08<00:00, 37.90it/s]\n"
     ]
    },
    {
     "name": "stdout",
     "output_type": "stream",
     "text": [
      "processing : models/30e1\n"
     ]
    },
    {
     "name": "stderr",
     "output_type": "stream",
     "text": [
      "Generating Samples: 100%|██████████| 313/313 [00:08<00:00, 37.95it/s]\n"
     ]
    },
    {
     "name": "stdout",
     "output_type": "stream",
     "text": [
      "processing : models/30e2\n"
     ]
    },
    {
     "name": "stderr",
     "output_type": "stream",
     "text": [
      "Generating Samples: 100%|██████████| 313/313 [00:08<00:00, 37.93it/s]\n"
     ]
    },
    {
     "name": "stdout",
     "output_type": "stream",
     "text": [
      "processing : models/30e3\n"
     ]
    },
    {
     "name": "stderr",
     "output_type": "stream",
     "text": [
      "Generating Samples: 100%|██████████| 313/313 [00:08<00:00, 37.91it/s]\n"
     ]
    },
    {
     "name": "stdout",
     "output_type": "stream",
     "text": [
      "processing : models/40e1\n"
     ]
    },
    {
     "name": "stderr",
     "output_type": "stream",
     "text": [
      "Generating Samples: 100%|██████████| 313/313 [00:08<00:00, 37.87it/s]\n"
     ]
    },
    {
     "name": "stdout",
     "output_type": "stream",
     "text": [
      "processing : models/40e2\n"
     ]
    },
    {
     "name": "stderr",
     "output_type": "stream",
     "text": [
      "Generating Samples: 100%|██████████| 313/313 [00:08<00:00, 37.89it/s]\n"
     ]
    },
    {
     "name": "stdout",
     "output_type": "stream",
     "text": [
      "processing : models/40e3\n"
     ]
    },
    {
     "name": "stderr",
     "output_type": "stream",
     "text": [
      "Generating Samples: 100%|██████████| 313/313 [00:08<00:00, 37.91it/s]\n"
     ]
    },
    {
     "name": "stdout",
     "output_type": "stream",
     "text": [
      "processing : models/50e1\n"
     ]
    },
    {
     "name": "stderr",
     "output_type": "stream",
     "text": [
      "Generating Samples: 100%|██████████| 313/313 [00:08<00:00, 37.92it/s]\n"
     ]
    },
    {
     "name": "stdout",
     "output_type": "stream",
     "text": [
      "processing : models/50e2\n"
     ]
    },
    {
     "name": "stderr",
     "output_type": "stream",
     "text": [
      "Generating Samples: 100%|██████████| 313/313 [00:08<00:00, 37.92it/s]\n"
     ]
    },
    {
     "name": "stdout",
     "output_type": "stream",
     "text": [
      "processing : models/50e3\n"
     ]
    },
    {
     "name": "stderr",
     "output_type": "stream",
     "text": [
      "Generating Samples: 100%|██████████| 313/313 [00:08<00:00, 37.89it/s]\n"
     ]
    },
    {
     "name": "stdout",
     "output_type": "stream",
     "text": [
      "processing : models/60e1\n"
     ]
    },
    {
     "name": "stderr",
     "output_type": "stream",
     "text": [
      "Generating Samples: 100%|██████████| 313/313 [00:08<00:00, 37.92it/s]\n"
     ]
    },
    {
     "name": "stdout",
     "output_type": "stream",
     "text": [
      "processing : models/60e2\n"
     ]
    },
    {
     "name": "stderr",
     "output_type": "stream",
     "text": [
      "Generating Samples: 100%|██████████| 313/313 [00:08<00:00, 37.89it/s]\n"
     ]
    },
    {
     "name": "stdout",
     "output_type": "stream",
     "text": [
      "processing : models/60e3\n"
     ]
    },
    {
     "name": "stderr",
     "output_type": "stream",
     "text": [
      "Generating Samples: 100%|██████████| 313/313 [00:08<00:00, 37.89it/s]\n"
     ]
    },
    {
     "name": "stdout",
     "output_type": "stream",
     "text": [
      "processing : models/70e1\n"
     ]
    },
    {
     "name": "stderr",
     "output_type": "stream",
     "text": [
      "Generating Samples: 100%|██████████| 313/313 [00:08<00:00, 37.91it/s]\n"
     ]
    },
    {
     "name": "stdout",
     "output_type": "stream",
     "text": [
      "processing : models/70e2\n"
     ]
    },
    {
     "name": "stderr",
     "output_type": "stream",
     "text": [
      "Generating Samples: 100%|██████████| 313/313 [00:08<00:00, 37.96it/s]\n"
     ]
    },
    {
     "name": "stdout",
     "output_type": "stream",
     "text": [
      "processing : models/70e3\n"
     ]
    },
    {
     "name": "stderr",
     "output_type": "stream",
     "text": [
      "Generating Samples: 100%|██████████| 313/313 [00:08<00:00, 37.83it/s]\n"
     ]
    },
    {
     "name": "stdout",
     "output_type": "stream",
     "text": [
      "processing : models/80e1\n"
     ]
    },
    {
     "name": "stderr",
     "output_type": "stream",
     "text": [
      "Generating Samples: 100%|██████████| 313/313 [00:08<00:00, 37.92it/s]\n"
     ]
    },
    {
     "name": "stdout",
     "output_type": "stream",
     "text": [
      "processing : models/80e2\n"
     ]
    },
    {
     "name": "stderr",
     "output_type": "stream",
     "text": [
      "Generating Samples: 100%|██████████| 313/313 [00:08<00:00, 37.95it/s]\n"
     ]
    },
    {
     "name": "stdout",
     "output_type": "stream",
     "text": [
      "processing : models/80e3\n"
     ]
    },
    {
     "name": "stderr",
     "output_type": "stream",
     "text": [
      "Generating Samples: 100%|██████████| 313/313 [00:08<00:00, 37.77it/s]\n"
     ]
    },
    {
     "name": "stdout",
     "output_type": "stream",
     "text": [
      "processing : models/90e1\n"
     ]
    },
    {
     "name": "stderr",
     "output_type": "stream",
     "text": [
      "Generating Samples: 100%|██████████| 313/313 [00:08<00:00, 37.69it/s]\n"
     ]
    },
    {
     "name": "stdout",
     "output_type": "stream",
     "text": [
      "processing : models/90e2\n"
     ]
    },
    {
     "name": "stderr",
     "output_type": "stream",
     "text": [
      "Generating Samples: 100%|██████████| 313/313 [00:08<00:00, 37.99it/s]\n"
     ]
    },
    {
     "name": "stdout",
     "output_type": "stream",
     "text": [
      "processing : models/90e3\n"
     ]
    },
    {
     "name": "stderr",
     "output_type": "stream",
     "text": [
      "Generating Samples: 100%|██████████| 313/313 [00:08<00:00, 37.98it/s]\n"
     ]
    }
   ],
   "source": [
    "generate_perplexities('crawl.wet', batch_size = 100, num_samples = 25000)"
   ]
  },
  {
   "cell_type": "code",
   "execution_count": 9,
   "id": "be0abb8d-295b-46d4-9102-8d6a3ac24ca9",
   "metadata": {},
   "outputs": [],
   "source": [
    "seen_sets = {}\n",
    "og_emails_seen = {}\n",
    "\n",
    "for i in range(10, 310, 10):\n",
    "    seen_sets[i] = set()\n",
    "    og_emails_seen[i] = set()"
   ]
  },
  {
   "cell_type": "code",
   "execution_count": 10,
   "id": "52380f24-28f5-4c51-8826-1bd968fdfc6f",
   "metadata": {},
   "outputs": [],
   "source": [
    "DATA_DIR = 'data'\n",
    "datafiles = [os.path.join(DATA_DIR, file) for file in os.listdir(DATA_DIR)]\n",
    "\n",
    "for number in range(10, 310, 10):\n",
    "    if 10<= number <= 100:\n",
    "        epoch = 1\n",
    "        perc = number\n",
    "    elif 110<= number <= 200:\n",
    "        epoch = 2\n",
    "        perc = number - 100\n",
    "    elif 210 <= number <= 300:\n",
    "        epoch = 3\n",
    "        perc = number - 200\n",
    "    file = f\"{DATA_DIR}/{epoch}e{perc}.txt\"\n",
    "    with open(file, 'r') as f:\n",
    "        data = f.read()\n",
    "    file_emails = extract_emails(data)\n",
    "    ckpt_emails = ORIGINAL_SET & file_emails\n",
    "    if number == 10:\n",
    "        seen_sets[number] = ckpt_emails\n",
    "    else:\n",
    "        prev_ckpt_emails = seen_sets[number-10]\n",
    "        ckpt_emails = ckpt_emails | prev_ckpt_emails\n",
    "        seen_sets[number] = ckpt_emails\n",
    "\n"
   ]
  },
  {
   "cell_type": "code",
   "execution_count": 11,
   "id": "177fa18e-57c3-4157-8f6c-08870ffe1b04",
   "metadata": {},
   "outputs": [],
   "source": [
    "DATA_DIR = 'data'\n",
    "datafiles = [os.path.join(DATA_DIR, file) for file in os.listdir(DATA_DIR)]\n",
    "\n",
    "for number in range(10, 310, 10):\n",
    "    if 10<= number <= 100:\n",
    "        epoch = 1\n",
    "        perc = number\n",
    "    elif 110<= number <= 200:\n",
    "        epoch = 2\n",
    "        perc = number - 100\n",
    "    elif 210 <= number <= 300:\n",
    "        epoch = 3\n",
    "        perc = number - 200\n",
    "    file = f\"{DATA_DIR}/{epoch}e{perc}_original.txt\"\n",
    "    with open(file, 'r') as f:\n",
    "        data = f.read()\n",
    "    file_emails = extract_emails(data)\n",
    "    ckpt_emails = ORIGINAL_SET & file_emails\n",
    "    if number == 10:\n",
    "        og_emails_seen[number] = ckpt_emails\n",
    "    else:\n",
    "        prev_ckpt_emails = og_emails_seen[number-10]\n",
    "        ckpt_emails = ckpt_emails | prev_ckpt_emails\n",
    "        og_emails_seen[number] = ckpt_emails\n",
    "\n"
   ]
  },
  {
   "cell_type": "code",
   "execution_count": 12,
   "id": "c072b857-f5d6-4f86-982f-11c3cb86f04c",
   "metadata": {},
   "outputs": [
    {
     "name": "stdout",
     "output_type": "stream",
     "text": [
      "Working on file: email_collection/10e1.csv\n",
      "Working on file: email_collection/20e1.csv\n",
      "Working on file: email_collection/30e1.csv\n",
      "Working on file: email_collection/40e1.csv\n",
      "Working on file: email_collection/50e1.csv\n",
      "Working on file: email_collection/60e1.csv\n",
      "Working on file: email_collection/70e1.csv\n",
      "Working on file: email_collection/80e1.csv\n",
      "Working on file: email_collection/90e1.csv\n",
      "Working on file: email_collection/100e1.csv\n",
      "Working on file: email_collection/10e2.csv\n",
      "Working on file: email_collection/20e2.csv\n",
      "Working on file: email_collection/30e2.csv\n",
      "Working on file: email_collection/40e2.csv\n",
      "Working on file: email_collection/50e2.csv\n",
      "Working on file: email_collection/60e2.csv\n",
      "Working on file: email_collection/70e2.csv\n",
      "Working on file: email_collection/80e2.csv\n",
      "Working on file: email_collection/90e2.csv\n",
      "Working on file: email_collection/100e2.csv\n",
      "Working on file: email_collection/10e3.csv\n",
      "Working on file: email_collection/20e3.csv\n",
      "Working on file: email_collection/30e3.csv\n",
      "Working on file: email_collection/40e3.csv\n",
      "Working on file: email_collection/50e3.csv\n",
      "Working on file: email_collection/60e3.csv\n",
      "Working on file: email_collection/70e3.csv\n",
      "Working on file: email_collection/80e3.csv\n",
      "Working on file: email_collection/90e3.csv\n",
      "Working on file: email_collection/100e3.csv\n"
     ]
    }
   ],
   "source": [
    "os.makedirs('results', exist_ok=True)\n",
    "RESULTS = 'results'\n",
    "results = {}\n",
    "results['checkpoint'] = []\n",
    "results['percentage_from_total_masked'] = []\n",
    "results['percentage_from_seen_masked'] = []\n",
    "results['emails_leaked_masked'] = []\n",
    "results['percentage_from_total_original'] = []\n",
    "results['percentage_from_seen_original'] = []\n",
    "results['emails_leaked_original'] = []\n",
    "buffer_set_m = set()\n",
    "buffer_set_o = set()\n",
    "for epoch in range(1, 4):\n",
    "    for perc in range(10, 110, 10):\n",
    "        csv_file = f\"{CSVS}/{perc}e{epoch}.csv\"\n",
    "        print(f'Working on file: {csv_file}')\n",
    "        df = pd.read_csv(csv_file)\n",
    "        releaks = set(df['re_evaluation_leak'])\n",
    "        leaks = set(df['email'])\n",
    "        number = (epoch-1)*100 + perc\n",
    "        results['checkpoint'].append(number)\n",
    "        \n",
    "        if number == 10:\n",
    "            buffer_set_m = releaks\n",
    "            perc_from_total = (len(buffer_set_m)/len(ORIGINAL_SET))*100\n",
    "            seen_vals = seen_sets[number]\n",
    "            perc_from_seen = (len(buffer_set_m)/len(seen_vals))*100\n",
    "            results['percentage_from_total_masked'].append(perc_from_total)\n",
    "            results['percentage_from_seen_masked'].append(perc_from_seen)\n",
    "            results['emails_leaked_masked'].append(len(buffer_set_m))\n",
    "            \n",
    "            buffer_set_o = leaks\n",
    "            perc_from_total = (len(buffer_set_o)/len(ORIGINAL_SET))*100\n",
    "            seen_vals = og_emails_seen[number]\n",
    "            perc_from_seen = (len(buffer_set_o)/len(seen_vals))*100\n",
    "            results['percentage_from_total_original'].append(perc_from_total)\n",
    "            results['percentage_from_seen_original'].append(perc_from_seen)\n",
    "            results['emails_leaked_original'].append(len(buffer_set_o))\n",
    "        \n",
    "        else:\n",
    "            buffer_set_m = buffer_set_m | releaks\n",
    "            perc_from_total = (len(buffer_set_m)/len(ORIGINAL_SET))*100\n",
    "            seen_vals = seen_sets[number]\n",
    "            perc_from_seen = (len(buffer_set_m)/len(seen_vals))*100\n",
    "            results['percentage_from_total_masked'].append(perc_from_total)\n",
    "            results['percentage_from_seen_masked'].append(perc_from_seen)\n",
    "            results['emails_leaked_masked'].append(len(buffer_set_m))\n",
    "            \n",
    "            buffer_set_o = buffer_set_o | leaks\n",
    "            perc_from_total = (len(buffer_set_o)/len(ORIGINAL_SET))*100\n",
    "            seen_vals = og_emails_seen[number]\n",
    "            perc_from_seen = (len(buffer_set_o)/len(seen_vals))*100\n",
    "            results['percentage_from_total_original'].append(perc_from_total)\n",
    "            results['percentage_from_seen_original'].append(perc_from_seen)\n",
    "            results['emails_leaked_original'].append(len(buffer_set_o))\n",
    "resdf = pd.DataFrame(results)\n",
    "resdf.to_csv(f'{RESULTS}/results.csv', index = False)\n",
    "    \n",
    "        \n",
    "        \n",
    "            \n",
    "            \n",
    "            \n",
    "        "
   ]
  },
  {
   "cell_type": "code",
   "execution_count": 28,
   "id": "69505418-191b-463c-88d1-eada34e08ea5",
   "metadata": {},
   "outputs": [],
   "source": [
    "resfile = f\"{RESULTS}/results.csv\"\n",
    "df = pd.read_csv(resfile)\n",
    "\n",
    "checkpoints = df['checkpoint'].to_list()\n",
    "og_leaks = df['emails_leaked_original'].to_list()\n",
    "re_leaks = df['emails_leaked_masked'].to_list()"
   ]
  },
  {
   "cell_type": "code",
   "execution_count": 29,
   "id": "2548806d-37fc-415b-83e6-6f5a8b95a94e",
   "metadata": {},
   "outputs": [
    {
     "data": {
      "text/plain": [
       "[2,\n",
       " 4,\n",
       " 4,\n",
       " 7,\n",
       " 7,\n",
       " 8,\n",
       " 9,\n",
       " 11,\n",
       " 11,\n",
       " 11,\n",
       " 11,\n",
       " 11,\n",
       " 11,\n",
       " 11,\n",
       " 11,\n",
       " 11,\n",
       " 12,\n",
       " 13,\n",
       " 13,\n",
       " 13,\n",
       " 16,\n",
       " 16,\n",
       " 16,\n",
       " 16,\n",
       " 16,\n",
       " 17,\n",
       " 17,\n",
       " 17,\n",
       " 18,\n",
       " 18]"
      ]
     },
     "execution_count": 29,
     "metadata": {},
     "output_type": "execute_result"
    }
   ],
   "source": [
    "re_leaks"
   ]
  },
  {
   "cell_type": "code",
   "execution_count": 27,
   "id": "b63ba2d5-b851-4a2a-a5a9-c8d8688e6442",
   "metadata": {},
   "outputs": [
    {
     "data": {
      "image/png": "[encoded data removed]",
      "text/plain": [
       "<Figure size 720x432 with 1 Axes>"
      ]
     },
     "metadata": {
      "needs_background": "light"
     },
     "output_type": "display_data"
    }
   ],
   "source": [
    "plt.figure(figsize=(10,6))\n",
    "\n",
    "# Plot the lines\n",
    "plt.plot(checkpoints, og_leaks, marker='o', label='FT wo Masking')\n",
    "plt.plot(checkpoints, re_leaks, marker='s', label='FT w Masking')\n",
    "\n",
    "# Add fill below the lines\n",
    "plt.fill_between(checkpoints, og_leaks, alpha=0.5, label='_nolegend_')\n",
    "plt.fill_between(checkpoints, re_leaks, alpha=0.5, label='_nolegend_')\n",
    "\n",
    "plt.xlabel('Checkpoint')\n",
    "plt.ylabel('Percentage of total emails memorized')\n",
    "plt.title('What percentage of original emails did my Checkpoint memorize?')\n",
    "plt.legend()\n",
    "plt.show()"
   ]
  },
  {
   "cell_type": "code",
   "execution_count": 30,
   "id": "5c8110d7-854f-4ee7-8bae-b2f5cb0269bf",
   "metadata": {},
   "outputs": [],
   "source": [
    "nonel = {}\n",
    "nonel['checkpoints'] = []\n",
    "nonel['original'] = []\n",
    "nonel['masked'] = []\n",
    "\n",
    "for i in range(0, len(checkpoints)):\n",
    "    if i == 0:\n",
    "        nonel['original'].append(0)\n",
    "        nonel['masked'].append(0)\n",
    "    else:\n",
    "        prev_leaked = re_leaks[i-1]\n",
    "        now_leaked = re_leaks[i]\n",
    "        num_leaked = now_leaked - prev_leaked\n",
    "        nonel['masked'].append(num_leaked)\n",
    "        \n",
    "        prev_leaked = og_leaks[i-1]\n",
    "        now_leaked = og_leaks[i]\n",
    "        num_leaked = now_leaked - prev_leaked\n",
    "        nonel['original'].append(num_leaked)\n",
    "    nonel['checkpoints'].append(checkpoints[i])"
   ]
  },
  {
   "cell_type": "code",
   "execution_count": 32,
   "id": "5e9d3dd4-268e-406b-8f3c-cc504bdec549",
   "metadata": {},
   "outputs": [
    {
     "data": {
      "image/png": "[encoded data removed]",
      "text/plain": [
       "<Figure size 720x432 with 1 Axes>"
      ]
     },
     "metadata": {
      "needs_background": "light"
     },
     "output_type": "display_data"
    }
   ],
   "source": [
    "plt.figure(figsize=(10,6))\n",
    "\n",
    "# Plot the lines\n",
    "plt.plot(nonel['checkpoints'], nonel['original'], marker='o', label='FT wo Masking')\n",
    "plt.plot(nonel['checkpoints'], nonel['masked'], marker='s', label='FT w Masking')\n",
    "\n",
    "# Add fill below the lines\n",
    "plt.fill_between(nonel['checkpoints'], nonel['original'], alpha=0.5, label='_nolegend_')\n",
    "plt.fill_between(nonel['checkpoints'], nonel['masked'], alpha=0.5, label='_nolegend_')\n",
    "\n",
    "plt.xlabel('Checkpoint')\n",
    "plt.ylabel('Percentage of total emails memorized')\n",
    "plt.title('New Emails leaked at every checkpoint')\n",
    "plt.legend()\n",
    "plt.show()"
   ]
  },
  {
   "cell_type": "code",
   "execution_count": null,
   "id": "bfd82660-dd36-4726-9696-d211f81ea30c",
   "metadata": {},
   "outputs": [],
   "source": []
  }
 ],
 "metadata": {
  "kernelspec": {
   "display_name": "Python 3 (ipykernel)",
   "language": "python",
   "name": "python3"
  },
  "language_info": {
   "codemirror_mode": {
    "name": "ipython",
    "version": 3
   },
   "file_extension": ".py",
   "mimetype": "text/x-python",
   "name": "python",
   "nbconvert_exporter": "python",
   "pygments_lexer": "ipython3",
   "version": "3.12.4"
  }
 },
 "nbformat": 4,
 "nbformat_minor": 5
}
