{
 "cells": [
  {
   "cell_type": "code",
   "execution_count": 12,
   "id": "91aa911e-1d12-4e32-ae52-d7cb6b0a5650",
   "metadata": {},
   "outputs": [],
   "source": [
    "import random\n",
    "import re\n",
    "import pandas as pd"
   ]
  },
  {
   "cell_type": "code",
   "execution_count": 13,
   "id": "eb8d06cb-ee3c-47d6-abf3-21b1b9ad439b",
   "metadata": {},
   "outputs": [],
   "source": [
    "df = pd.read_csv('datasets/enron/emails.csv')\n",
    "email_list = list(df['message'])\n",
    "\n",
    "emails = set()\n",
    "\n",
    "for em in email_list:\n",
    "    inner_emails = re.findall(r'[a-zA-Z0-9_.+-]+@[a-zA-Z0-9-]+\\.[a-zA-Z0-9-.]+', em)\n",
    "    for inem in inner_emails:\n",
    "        emails.add(inem)"
   ]
  },
  {
   "cell_type": "code",
   "execution_count": 14,
   "id": "28a17a32-9310-497b-ad22-63dba9381ca0",
   "metadata": {},
   "outputs": [],
   "source": [
    "first_names = set()\n",
    "last_names = set()\n",
    "\n",
    "for email in emails:\n",
    "    first_name = email.split('.')[0]\n",
    "    last_name = email.split('.')[1].split('@')[0]\n",
    "    if first_name.isalnum():\n",
    "        first_names.add(first_name)\n",
    "    if last_name.isalnum():\n",
    "        last_names.add(last_name)"
   ]
  },
  {
   "cell_type": "code",
   "execution_count": 15,
   "id": "fbe58e8e-90cc-463e-bc92-b1e499dc8809",
   "metadata": {},
   "outputs": [
    {
     "data": {
      "text/plain": [
       "27605"
      ]
     },
     "execution_count": 15,
     "metadata": {},
     "output_type": "execute_result"
    }
   ],
   "source": [
    "len(last_names)"
   ]
  },
  {
   "cell_type": "code",
   "execution_count": 16,
   "id": "63eb413f-d8cb-4011-8276-231b0569c9f5",
   "metadata": {},
   "outputs": [],
   "source": [
    "domains= ['enron', 'email', 'gmail','google', 'yahoo', 'hotmail', 'usa', 'meta', \n",
    "               'remail', 'nanomail', 'outlook', 'apple', 'zoho', 'aol', 'mail','msn', \n",
    "               'ymail', 'bigfish', 'bigmail', 'att', 'optonline', 'givesendgo', 'collectormail',\n",
    "              'reddit', 'netflix', 't-online', 'freenet', 'mac', 'sympatico', 'northeastern', 'berkeley',\n",
    "              'zonnet', 'juno', 'wordpress']\n",
    "\n",
    "tlds = ['com', 'org', 'edu', 'gov', 'us', 'net', 'co', 'ai', 'io', 'tech', 'app', 'info', 'shop', 'online','tv', 'uk']"
   ]
  },
  {
   "cell_type": "code",
   "execution_count": 17,
   "id": "baa4e9ad-830c-4b2a-bd28-f8cc3383dd4d",
   "metadata": {},
   "outputs": [],
   "source": [
    "first_name_list ='\\n'.join(first_names)\n",
    "last_name_list = '\\n'.join(last_names)\n",
    "domain_list= '\\n'.join(domains)\n",
    "tld_list = '\\n'.join(tlds)"
   ]
  },
  {
   "cell_type": "code",
   "execution_count": 18,
   "id": "b92b7dc0-2939-46cd-9d69-d21567390acc",
   "metadata": {},
   "outputs": [],
   "source": [
    "fn = random.sample(first_names,1)[0]\n",
    "ln = random.sample(last_names, 1)[0]\n",
    "dmn = random.sample(domains,1)[0]\n",
    "tld = random.sample(tlds,1)[0]\n",
    "\n",
    "email = f\"{fn}.{ln}@{dmn}.{tld}\""
   ]
  },
  {
   "cell_type": "code",
   "execution_count": 19,
   "id": "594ec384-f574-4191-a301-f1a68084cfc7",
   "metadata": {},
   "outputs": [
    {
     "data": {
      "text/plain": [
       "'jean.macintire@bigfish.app'"
      ]
     },
     "execution_count": 19,
     "metadata": {},
     "output_type": "execute_result"
    }
   ],
   "source": [
    "email"
   ]
  },
  {
   "cell_type": "code",
   "execution_count": 20,
   "id": "abccfedc-313b-4171-8b9a-aad089886c19",
   "metadata": {},
   "outputs": [],
   "source": [
    "with open('email_vals/first_names.txt','w') as file:\n",
    "    file.write(first_name_list)\n",
    "\n",
    "with open('email_vals/last_names.txt', 'w') as file:\n",
    "    file.write(last_name_list)\n",
    "\n",
    "with open('email_vals/domains.txt', 'w') as file:\n",
    "    file.write(domain_list)\n",
    "\n",
    "with open('email_vals/tld.txt', 'w') as file:\n",
    "    file.write(tld_list)"
   ]
  },
  {
   "cell_type": "code",
   "execution_count": null,
   "id": "3ce511b9-4c19-4416-b73c-548256f6658c",
   "metadata": {},
   "outputs": [],
   "source": []
  }
 ],
 "metadata": {
  "kernelspec": {
   "display_name": "Python 3",
   "language": "python",
   "name": "python3"
  },
  "language_info": {
   "codemirror_mode": {
    "name": "ipython",
    "version": 3
   },
   "file_extension": ".py",
   "mimetype": "text/x-python",
   "name": "python",
   "nbconvert_exporter": "python",
   "pygments_lexer": "ipython3",
   "version": "3.8.8"
  }
 },
 "nbformat": 4,
 "nbformat_minor": 5
}
