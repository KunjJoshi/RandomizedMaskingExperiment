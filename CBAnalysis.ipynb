{
 "cells": [
  {
   "cell_type": "code",
   "execution_count": 1,
   "id": "0baa3f7e-6924-4bd2-89c7-87bebe69c14d",
   "metadata": {},
   "outputs": [],
   "source": [
    "import pandas as pd\n",
    "import matplotlib.pyplot as plt"
   ]
  },
  {
   "cell_type": "code",
   "execution_count": 6,
   "id": "64dcb9aa-a8ce-4ec6-abba-3972dcc268e0",
   "metadata": {},
   "outputs": [],
   "source": [
    "mem_res_path = \"results/results.csv\"\n",
    "perplexity_masked = \"results/perp_calc_masked.csv\"\n",
    "perplexity_unmasked = \"results/perp_calc_unmasked.csv\""
   ]
  },
  {
   "cell_type": "code",
   "execution_count": 15,
   "id": "5b7b2991-a844-4f7f-afe6-a789bfaaf7fa",
   "metadata": {},
   "outputs": [],
   "source": [
    "mem_df = pd.read_csv(mem_res_path)\n",
    "perp_m_df = pd.read_csv(perplexity_masked)\n",
    "perp_um_df = pd.read_csv(perplexity_unmasked)"
   ]
  },
  {
   "cell_type": "code",
   "execution_count": 8,
   "id": "022ca24c-441b-4140-a176-9a4f3dd3c267",
   "metadata": {},
   "outputs": [
    {
     "data": {
      "text/html": [
       "<div>\n",
       "<style scoped>\n",
       "    .dataframe tbody tr th:only-of-type {\n",
       "        vertical-align: middle;\n",
       "    }\n",
       "\n",
       "    .dataframe tbody tr th {\n",
       "        vertical-align: top;\n",
       "    }\n",
       "\n",
       "    .dataframe thead th {\n",
       "        text-align: right;\n",
       "    }\n",
       "</style>\n",
       "<table border=\"1\" class=\"dataframe\">\n",
       "  <thead>\n",
       "    <tr style=\"text-align: right;\">\n",
       "      <th></th>\n",
       "      <th>checkpoint</th>\n",
       "      <th>percentage_from_total_masked</th>\n",
       "      <th>percentage_from_seen_masked</th>\n",
       "      <th>emails_leaked_masked</th>\n",
       "      <th>percentage_from_total_original</th>\n",
       "      <th>percentage_from_seen_original</th>\n",
       "      <th>emails_leaked_original</th>\n",
       "    </tr>\n",
       "  </thead>\n",
       "  <tbody>\n",
       "    <tr>\n",
       "      <th>0</th>\n",
       "      <td>10</td>\n",
       "      <td>0.008549</td>\n",
       "      <td>0.088261</td>\n",
       "      <td>2</td>\n",
       "      <td>0.042746</td>\n",
       "      <td>0.171174</td>\n",
       "      <td>10</td>\n",
       "    </tr>\n",
       "    <tr>\n",
       "      <th>1</th>\n",
       "      <td>20</td>\n",
       "      <td>0.017098</td>\n",
       "      <td>0.090539</td>\n",
       "      <td>4</td>\n",
       "      <td>0.081217</td>\n",
       "      <td>0.201634</td>\n",
       "      <td>19</td>\n",
       "    </tr>\n",
       "    <tr>\n",
       "      <th>2</th>\n",
       "      <td>30</td>\n",
       "      <td>0.017098</td>\n",
       "      <td>0.059286</td>\n",
       "      <td>4</td>\n",
       "      <td>0.102590</td>\n",
       "      <td>0.196996</td>\n",
       "      <td>24</td>\n",
       "    </tr>\n",
       "    <tr>\n",
       "      <th>3</th>\n",
       "      <td>40</td>\n",
       "      <td>0.029922</td>\n",
       "      <td>0.077735</td>\n",
       "      <td>7</td>\n",
       "      <td>0.132513</td>\n",
       "      <td>0.214088</td>\n",
       "      <td>31</td>\n",
       "    </tr>\n",
       "    <tr>\n",
       "      <th>4</th>\n",
       "      <td>50</td>\n",
       "      <td>0.029922</td>\n",
       "      <td>0.061328</td>\n",
       "      <td>7</td>\n",
       "      <td>0.162435</td>\n",
       "      <td>0.233243</td>\n",
       "      <td>38</td>\n",
       "    </tr>\n",
       "  </tbody>\n",
       "</table>\n",
       "</div>"
      ],
      "text/plain": [
       "   checkpoint  percentage_from_total_masked  percentage_from_seen_masked  \\\n",
       "0          10                      0.008549                     0.088261   \n",
       "1          20                      0.017098                     0.090539   \n",
       "2          30                      0.017098                     0.059286   \n",
       "3          40                      0.029922                     0.077735   \n",
       "4          50                      0.029922                     0.061328   \n",
       "\n",
       "   emails_leaked_masked  percentage_from_total_original  \\\n",
       "0                     2                        0.042746   \n",
       "1                     4                        0.081217   \n",
       "2                     4                        0.102590   \n",
       "3                     7                        0.132513   \n",
       "4                     7                        0.162435   \n",
       "\n",
       "   percentage_from_seen_original  emails_leaked_original  \n",
       "0                       0.171174                      10  \n",
       "1                       0.201634                      19  \n",
       "2                       0.196996                      24  \n",
       "3                       0.214088                      31  \n",
       "4                       0.233243                      38  "
      ]
     },
     "execution_count": 8,
     "metadata": {},
     "output_type": "execute_result"
    }
   ],
   "source": [
    "mem_df.head()"
   ]
  },
  {
   "cell_type": "code",
   "execution_count": 10,
   "id": "7d5d814b-be83-4907-9b39-b8ec3aab2fd1",
   "metadata": {},
   "outputs": [],
   "source": [
    "emails_leaked_m = mem_df['emails_leaked_masked'].to_list()\n",
    "emails_leaked_um = mem_df['emails_leaked_original'].to_list()\n",
    "percentage_reduce = []\n",
    "\n",
    "for i in range(len(emails_leaked_m)):\n",
    "    num_leak_m = emails_leaked_m[i]\n",
    "    num_leak_um = emails_leaked_um[i]\n",
    "    perc_reduce = -1 * ((num_leak_m - num_leak_um)/num_leak_um) * 100\n",
    "    percentage_reduce.append(perc_reduce)"
   ]
  },
  {
   "cell_type": "code",
   "execution_count": 18,
   "id": "f90df8cf-2db1-4e1e-8e24-000bbf011cab",
   "metadata": {},
   "outputs": [
    {
     "data": {
      "text/html": [
       "<div>\n",
       "<style scoped>\n",
       "    .dataframe tbody tr th:only-of-type {\n",
       "        vertical-align: middle;\n",
       "    }\n",
       "\n",
       "    .dataframe tbody tr th {\n",
       "        vertical-align: top;\n",
       "    }\n",
       "\n",
       "    .dataframe thead th {\n",
       "        text-align: right;\n",
       "    }\n",
       "</style>\n",
       "<table border=\"1\" class=\"dataframe\">\n",
       "  <thead>\n",
       "    <tr style=\"text-align: right;\">\n",
       "      <th></th>\n",
       "      <th>checkpoint</th>\n",
       "      <th>mean_perplexity</th>\n",
       "    </tr>\n",
       "  </thead>\n",
       "  <tbody>\n",
       "    <tr>\n",
       "      <th>3</th>\n",
       "      <td>10</td>\n",
       "      <td>1168.112503</td>\n",
       "    </tr>\n",
       "    <tr>\n",
       "      <th>7</th>\n",
       "      <td>20</td>\n",
       "      <td>1320.437121</td>\n",
       "    </tr>\n",
       "    <tr>\n",
       "      <th>10</th>\n",
       "      <td>30</td>\n",
       "      <td>1357.508063</td>\n",
       "    </tr>\n",
       "    <tr>\n",
       "      <th>13</th>\n",
       "      <td>40</td>\n",
       "      <td>1440.557614</td>\n",
       "    </tr>\n",
       "    <tr>\n",
       "      <th>16</th>\n",
       "      <td>50</td>\n",
       "      <td>1477.163551</td>\n",
       "    </tr>\n",
       "  </tbody>\n",
       "</table>\n",
       "</div>"
      ],
      "text/plain": [
       "    checkpoint  mean_perplexity\n",
       "3           10      1168.112503\n",
       "7           20      1320.437121\n",
       "10          30      1357.508063\n",
       "13          40      1440.557614\n",
       "16          50      1477.163551"
      ]
     },
     "execution_count": 18,
     "metadata": {},
     "output_type": "execute_result"
    }
   ],
   "source": [
    "perp_um_df.head()"
   ]
  },
  {
   "cell_type": "code",
   "execution_count": 17,
   "id": "9bbbbb5f-98a6-4014-9ecc-dd4823e8e80d",
   "metadata": {},
   "outputs": [
    {
     "data": {
      "text/html": [
       "<div>\n",
       "<style scoped>\n",
       "    .dataframe tbody tr th:only-of-type {\n",
       "        vertical-align: middle;\n",
       "    }\n",
       "\n",
       "    .dataframe tbody tr th {\n",
       "        vertical-align: top;\n",
       "    }\n",
       "\n",
       "    .dataframe thead th {\n",
       "        text-align: right;\n",
       "    }\n",
       "</style>\n",
       "<table border=\"1\" class=\"dataframe\">\n",
       "  <thead>\n",
       "    <tr style=\"text-align: right;\">\n",
       "      <th></th>\n",
       "      <th>checkpoint</th>\n",
       "      <th>mean_perplexity</th>\n",
       "    </tr>\n",
       "  </thead>\n",
       "  <tbody>\n",
       "    <tr>\n",
       "      <th>3</th>\n",
       "      <td>10</td>\n",
       "      <td>1174.982519</td>\n",
       "    </tr>\n",
       "    <tr>\n",
       "      <th>7</th>\n",
       "      <td>20</td>\n",
       "      <td>1326.762644</td>\n",
       "    </tr>\n",
       "    <tr>\n",
       "      <th>10</th>\n",
       "      <td>30</td>\n",
       "      <td>1380.807458</td>\n",
       "    </tr>\n",
       "    <tr>\n",
       "      <th>13</th>\n",
       "      <td>40</td>\n",
       "      <td>1529.324976</td>\n",
       "    </tr>\n",
       "    <tr>\n",
       "      <th>16</th>\n",
       "      <td>50</td>\n",
       "      <td>1514.390550</td>\n",
       "    </tr>\n",
       "  </tbody>\n",
       "</table>\n",
       "</div>"
      ],
      "text/plain": [
       "    checkpoint  mean_perplexity\n",
       "3           10      1174.982519\n",
       "7           20      1326.762644\n",
       "10          30      1380.807458\n",
       "13          40      1529.324976\n",
       "16          50      1514.390550"
      ]
     },
     "execution_count": 17,
     "metadata": {},
     "output_type": "execute_result"
    }
   ],
   "source": [
    "perp_m_df = perp_m_df.sort_values('checkpoint')\n",
    "perp_um_df = perp_um_df.sort_values('checkpoint')\n",
    "\n",
    "perp_m_df.head()"
   ]
  },
  {
   "cell_type": "code",
   "execution_count": 19,
   "id": "67fa6148-06e4-4a54-92de-76f4d5949d64",
   "metadata": {},
   "outputs": [],
   "source": [
    "perps_m = perp_m_df['mean_perplexity'].to_list()\n",
    "perps_um = perp_um_df['mean_perplexity'].to_list()\n",
    "\n",
    "percentage_increase = []\n",
    "\n",
    "for i in range(len(perps_m)):\n",
    "    perpm = perps_m[i]\n",
    "    perpum = perps_um[i]\n",
    "    perc_inc = ((perpm - perpum)/perpum)*100\n",
    "    percentage_increase.append(perc_inc)\n",
    "\n",
    "    "
   ]
  },
  {
   "cell_type": "code",
   "execution_count": 24,
   "id": "69ce8131-da03-4b1a-bb9f-f1c18830686f",
   "metadata": {},
   "outputs": [],
   "source": [
    "percentage_increase = percentage_increase[:-1]"
   ]
  },
  {
   "cell_type": "code",
   "execution_count": 25,
   "id": "6bcce23e-7893-43bb-a7c3-9ff3136ef13f",
   "metadata": {},
   "outputs": [
    {
     "data": {
      "image/png": "[encoded data removed]",
      "text/plain": [
       "<Figure size 1000x600 with 1 Axes>"
      ]
     },
     "metadata": {},
     "output_type": "display_data"
    }
   ],
   "source": [
    "ckpts = mem_df['checkpoint'].to_list()\n",
    "\n",
    "plt.figure(figsize=(10,6))\n",
    "plt.plot(ckpts, percentage_reduce, marker = 'o', label = 'Percentage Reduction of Memorization per Checkpoint')\n",
    "plt.plot(ckpts, percentage_increase, marker = 's', label = 'Percentage Increase of Perplexity per Checkpoint')\n",
    "\n",
    "plt.xlabel('Checkpoints')\n",
    "plt.ylabel('CTB%')\n",
    "plt.title('Cost to Benefit Analysis: Memorization vs Perplexity')\n",
    "plt.legend()\n",
    "plt.show()"
   ]
  },
  {
   "cell_type": "code",
   "execution_count": 27,
   "id": "a49159f9-7944-43f5-b7b5-c34499fb725a",
   "metadata": {},
   "outputs": [
    {
     "data": {
      "text/plain": [
       "[80.0,\n",
       " 78.94736842105263,\n",
       " 83.33333333333334,\n",
       " 77.41935483870968,\n",
       " 81.57894736842105,\n",
       " 84.90566037735849,\n",
       " 86.36363636363636,\n",
       " 87.35632183908046,\n",
       " 88.17204301075269,\n",
       " 89.32038834951457,\n",
       " 90.35087719298247,\n",
       " 91.26984126984127,\n",
       " 91.85185185185185,\n",
       " 92.46575342465754,\n",
       " 93.25153374233128,\n",
       " 93.37349397590361,\n",
       " 92.89940828402366,\n",
       " 92.52873563218391,\n",
       " 92.93478260869566,\n",
       " 93.29896907216495,\n",
       " 91.83673469387756,\n",
       " 92.03980099502488,\n",
       " 92.27053140096618,\n",
       " 92.27053140096618,\n",
       " 92.55813953488372,\n",
       " 92.16589861751152,\n",
       " 92.23744292237443,\n",
       " 92.3076923076923,\n",
       " 91.8552036199095,\n",
       " 91.8552036199095]"
      ]
     },
     "execution_count": 27,
     "metadata": {},
     "output_type": "execute_result"
    }
   ],
   "source": [
    "percentage_reduce"
   ]
  },
  {
   "cell_type": "code",
   "execution_count": 28,
   "id": "f16481f3-e812-4424-bdb8-28c2b8cfb895",
   "metadata": {},
   "outputs": [
    {
     "data": {
      "text/plain": [
       "89.43398266898704"
      ]
     },
     "execution_count": 28,
     "metadata": {},
     "output_type": "execute_result"
    }
   ],
   "source": [
    "sum(percentage_reduce)/len(percentage_reduce)"
   ]
  },
  {
   "cell_type": "code",
   "execution_count": 29,
   "id": "99757362-3dd3-49a4-a97e-75a48deaf6fc",
   "metadata": {},
   "outputs": [
    {
     "data": {
      "text/plain": [
       "2.7799260218329636"
      ]
     },
     "execution_count": 29,
     "metadata": {},
     "output_type": "execute_result"
    }
   ],
   "source": [
    "sum(percentage_increase)/len(percentage_increase)"
   ]
  },
  {
   "cell_type": "code",
   "execution_count": 30,
   "id": "42222d36-e553-4fb2-99a6-06a15f68a610",
   "metadata": {},
   "outputs": [
    {
     "data": {
      "text/plain": [
       "2.8388294023145377"
      ]
     },
     "execution_count": 30,
     "metadata": {},
     "output_type": "execute_result"
    }
   ],
   "source": [
    "percentage_increase[-1]"
   ]
  }
 ],
 "metadata": {
  "kernelspec": {
   "display_name": "Python 3 (ipykernel)",
   "language": "python",
   "name": "python3"
  },
  "language_info": {
   "codemirror_mode": {
    "name": "ipython",
    "version": 3
   },
   "file_extension": ".py",
   "mimetype": "text/x-python",
   "name": "python",
   "nbconvert_exporter": "python",
   "pygments_lexer": "ipython3",
   "version": "3.12.4"
  }
 },
 "nbformat": 4,
 "nbformat_minor": 5
}
